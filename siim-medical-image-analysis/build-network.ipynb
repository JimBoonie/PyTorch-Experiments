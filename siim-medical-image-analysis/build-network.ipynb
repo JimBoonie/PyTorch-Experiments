{
 "cells": [
  {
   "cell_type": "code",
   "execution_count": null,
   "metadata": {
    "collapsed": true
   },
   "outputs": [],
   "source": [
    "import os, csv\n",
    "import numpy as np\n",
    "import torch\n",
    "from torch.utils.data import Dataset, DataLoader\n",
    "from imageio import imread\n",
    "\n",
    "img_range = [-2**12, 2**12]\n",
    "data_path = '/home/masonmcgough/Workspace/Data/siim-medical-image-analysis-tutorial/tiff_images'\n",
    "csv_file_path = '/home/masonmcgough/Workspace/Data/siim-medical-image-analysis-tutorial/overview.csv'\n",
    "VALID_EXTS = ('.jpg', '.png', '.tif', '.tiff')"
   ]
  },
  {
   "cell_type": "markdown",
   "metadata": {},
   "source": [
    "## Find names and labels of images"
   ]
  },
  {
   "cell_type": "code",
   "execution_count": null,
   "metadata": {},
   "outputs": [],
   "source": [
    "def find_files(path, csv_file):\n",
    "#     # get file names\n",
    "#     file_names = []\n",
    "#     for e in VALID_EXTS:\n",
    "#         file_names.extend([\n",
    "#             f for f in os.listdir(data_path) \n",
    "#             if f.endswith(e)\n",
    "#         ])\n",
    "    \n",
    "    # get labels associated with file names\n",
    "    imgs_data = []\n",
    "    with open(csv_file, 'r') as f:\n",
    "        f_reader = iter(csv.reader(f, delimiter=','))\n",
    "        header = next(f_reader)\n",
    "        for row in f_reader:\n",
    "            imgs_data.append({f: x for f, x in zip(header, row)})\n",
    "    \n",
    "    # append path to file names\n",
    "    for i in imgs_data:\n",
    "        i['tiff_full_path'] = os.path.join(path, i['tiff_name'])\n",
    "        \n",
    "    return imgs_data\n",
    "    \n",
    "imgs_data = find_files(data_path, csv_file_path)\n",
    "print(\"{0} files found in '{1}'\".format(len(imgs_data), data_path))\n",
    "print(\"imgs_data[0]: '{0}'\".format(imgs_data[0]))"
   ]
  },
  {
   "cell_type": "markdown",
   "metadata": {},
   "source": [
    "## Make subclass for dataset"
   ]
  },
  {
   "cell_type": "code",
   "execution_count": null,
   "metadata": {},
   "outputs": [],
   "source": [
    "from skimage.transform import resize\n",
    "class CTDataset(Dataset):\n",
    "    def __init__(self, files_list, labels, img_dims=(256, 256)):\n",
    "        self.files_list = files_list\n",
    "        self.labels = labels\n",
    "        self.img_dims = img_dims\n",
    "    \n",
    "    def __len__(self):\n",
    "        return len(self.files_list)\n",
    "    \n",
    "    def __getitem__(self, index):\n",
    "        img = np.array(imread(self.files_list[index]))\n",
    "        img = resize(img, self.img_dims)\n",
    "        img = np.expand_dims(img, 0)\n",
    "        img = img / img_range[1]\n",
    "        \n",
    "        label = self.labels[index]\n",
    "        if label == 'True':\n",
    "            label = 1\n",
    "        else:\n",
    "            label = 0\n",
    "        return {'image': img, 'label': label, 'index': index}"
   ]
  },
  {
   "cell_type": "markdown",
   "metadata": {},
   "source": [
    "## Create instance"
   ]
  },
  {
   "cell_type": "code",
   "execution_count": null,
   "metadata": {},
   "outputs": [],
   "source": [
    "imgs_paths = [i['tiff_full_path'] for i in imgs_data]\n",
    "imgs_labels = [i['Contrast'] for i in imgs_data]\n",
    "img_dims = (128, 128)\n",
    "mydataset = CTDataset(imgs_paths, imgs_labels, img_dims=img_dims)\n",
    "print(\"Number of images: {0}\".format(len(mydataset)))\n",
    "ex = mydataset.__getitem__(0)\n",
    "print(ex)\n",
    "print(\"Shape: {0}\".format(ex['image'].shape))\n",
    "\n",
    "# add to dataloader\n",
    "mydataloader = torch.utils.data.DataLoader(\n",
    "    mydataset,\n",
    "    batch_size=4,\n",
    "    shuffle=True\n",
    ")"
   ]
  },
  {
   "cell_type": "markdown",
   "metadata": {},
   "source": [
    "## Define model"
   ]
  },
  {
   "cell_type": "code",
   "execution_count": null,
   "metadata": {
    "collapsed": true
   },
   "outputs": [],
   "source": [
    "import torch.nn as nn\n",
    "import torch.nn.functional as F\n",
    "class MyNet(nn.Module):\n",
    "    def __init__(self):\n",
    "        super(MyNet, self).__init__()\n",
    "        \n",
    "        self.conv1 = nn.Conv2d(1, 16, 3, stride=2)\n",
    "        self.conv2 = nn.Conv2d(16, 32, 3, stride=2)\n",
    "        self.conv3 = nn.Conv2d(32, 64, 3, stride=2)\n",
    "        \n",
    "        self.fc1 = nn.Linear(1568, 50)\n",
    "        self.fc2 = nn.Linear(50, 2)\n",
    "        \n",
    "    def forward(self, x):\n",
    "        x = F.max_pool2d(F.relu(self.conv1(x)), 2)\n",
    "        x = F.max_pool2d(F.relu(self.conv2(x)), 2)\n",
    "        x = x.view(-1, self.num_flat_features(x))\n",
    "        x = F.relu(self.fc1(x))\n",
    "        x = self.fc2(x)\n",
    "        return x\n",
    "        \n",
    "    def num_flat_features(self, x):\n",
    "        size = x.size()[1:]\n",
    "        num_features = 1\n",
    "        for s in size:\n",
    "            num_features *= s\n",
    "        return num_features\n",
    "\n",
    "mynet = MyNet()    \n",
    "\n",
    "# define loss and optimizer\n",
    "import torch.optim as optim\n",
    "criterion = nn.CrossEntropyLoss()\n",
    "optimizer = optim.SGD(mynet.parameters(), lr=0.001, momentum=0.8)"
   ]
  },
  {
   "cell_type": "markdown",
   "metadata": {},
   "source": [
    "## Display one example"
   ]
  },
  {
   "cell_type": "code",
   "execution_count": null,
   "metadata": {},
   "outputs": [],
   "source": [
    "import matplotlib.pyplot as plt\n",
    "%matplotlib inline\n",
    "\n",
    "dataiter = iter(mydataloader) # use trainloader as iterator\n",
    "data = dataiter.next() # load a random batch\n",
    "print(data)\n",
    "\n",
    "img_axes = plt.imshow(np.squeeze(data['image'][0]))\n",
    "print(\"Label: {0}\".format(data['label'][0]))"
   ]
  },
  {
   "cell_type": "markdown",
   "metadata": {},
   "source": [
    "## Train model"
   ]
  },
  {
   "cell_type": "code",
   "execution_count": null,
   "metadata": {
    "scrolled": true
   },
   "outputs": [],
   "source": [
    "from torch.autograd import Variable\n",
    "\n",
    "disp_interval = 5\n",
    "n_epochs = 500\n",
    "for epoch in range(n_epochs):\n",
    "    running_loss = 0.0\n",
    "    for i, data in enumerate(mydataloader, 0):\n",
    "        inputs, labels = Variable(data['image']).float(), Variable(data['label'])\n",
    "        \n",
    "        optimizer.zero_grad()\n",
    "        \n",
    "        outputs = mynet(inputs)\n",
    "        \n",
    "        loss = criterion(outputs, labels)\n",
    "        loss.backward()\n",
    "        \n",
    "        optimizer.step()\n",
    "        running_loss += loss.data[0]\n",
    "        \n",
    "        if i % disp_interval == disp_interval - 1:\n",
    "            print(\"Epoch: {0}, Batch: {1}, Loss: {2}\".format(\n",
    "                epoch + 1, i + 1, running_loss / disp_interval))\n",
    "            running_loss = 0"
   ]
  },
  {
   "cell_type": "code",
   "execution_count": null,
   "metadata": {
    "collapsed": true
   },
   "outputs": [],
   "source": []
  }
 ],
 "metadata": {
  "kernelspec": {
   "display_name": "Python [conda env:PyTorchSIIM]",
   "language": "python",
   "name": "conda-env-PyTorchSIIM-py"
  },
  "language_info": {
   "codemirror_mode": {
    "name": "ipython",
    "version": 3
   },
   "file_extension": ".py",
   "mimetype": "text/x-python",
   "name": "python",
   "nbconvert_exporter": "python",
   "pygments_lexer": "ipython3",
   "version": "3.6.5"
  }
 },
 "nbformat": 4,
 "nbformat_minor": 2
}
